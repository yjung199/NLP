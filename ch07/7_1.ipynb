{
 "cells": [
  {
   "cell_type": "markdown",
   "metadata": {},
   "source": [
    "### 문장생성 구현"
   ]
  },
  {
   "cell_type": "code",
   "execution_count": 7,
   "metadata": {},
   "outputs": [],
   "source": [
    "# coding: utf-8\n",
    "import sys\n",
    "sys.path.append('..')\n",
    "import numpy as np\n",
    "from common.functions import softmax\n",
    "from ch06.rnnlm import Rnnlm\n",
    "from ch06.better_rnnlm import BetterRnnlm\n",
    "\n",
    "\n",
    "class MyRnnlmGen(Rnnlm): # 문장을 생성하는 모델 \n",
    "    def generate(self, start_id, skip_ids=None, sample_size=100):\n",
    "        word_ids = [start_id]\n",
    "\n",
    "        x = start_id\n",
    "        while len(word_ids) < sample_size:\n",
    "            x = np.array(x).reshape(1, 1)\n",
    "            score = self.predict(x)\n",
    "#             print('score=', score)\n",
    "#             print('score.shape=', score.shape)\n",
    "            p = softmax(score.flatten())\n",
    "#             print('p=',p)\n",
    "#             print('len(p)=', len(p))\n",
    "#             print('np.argmax(p)=', np.argmax(p))\n",
    "\n",
    "            sampled = np.random.choice(len(p), size=1, p=p) # 랜덤을 사용해서 재미있게 문장 생성\n",
    "#             sampled = np.array(np.argmax(p)).reshape(1) # 결과가 일정하게 정해지는 방법이라 문장을 생성하는 모델로는 적합하지 않다. \n",
    "#             print('sampled=',sampled)\n",
    "            if (skip_ids is None) or (sampled not in skip_ids):\n",
    "                x = sampled\n",
    "                word_ids.append(int(x))\n",
    "\n",
    "        return word_ids\n",
    "\n",
    "    def get_state(self):\n",
    "        return self.lstm_layer.h, self.lstm_layer.c\n",
    "\n",
    "    def set_state(self, state):\n",
    "        self.lstm_layer.set_state(*state)\n",
    "\n",
    "\n",
    "class BetterRnnlmGen(BetterRnnlm):\n",
    "    def generate(self, start_id, skip_ids=None, sample_size=100):\n",
    "        word_ids = [start_id]\n",
    "\n",
    "        x = start_id\n",
    "        while len(word_ids) < sample_size:\n",
    "            x = np.array(x).reshape(1, 1)\n",
    "            score = self.predict(x).flatten()\n",
    "            p = softmax(score).flatten()\n",
    "\n",
    "            sampled = np.random.choice(len(p), size=1, p=p)\n",
    "            if (skip_ids is None) or (sampled not in skip_ids):\n",
    "                x = sampled\n",
    "                word_ids.append(int(x))\n",
    "\n",
    "        return word_ids\n",
    "\n",
    "    def get_state(self):\n",
    "        states = []\n",
    "        for layer in self.lstm_layers:\n",
    "            states.append((layer.h, layer.c))\n",
    "        return states\n",
    "\n",
    "    def set_state(self, states):\n",
    "        for layer, state in zip(self.lstm_layers, states):\n",
    "            layer.set_state(*state)"
   ]
  },
  {
   "cell_type": "markdown",
   "metadata": {},
   "source": [
    "### 문장생성을 위한 코드"
   ]
  },
  {
   "cell_type": "code",
   "execution_count": 8,
   "metadata": {},
   "outputs": [
    {
     "output_type": "stream",
     "name": "stdout",
     "text": [
      "you walking recalls forward at usual added lie trudeau the number.\n that he and toronto month u.s. sheep momentum with suffered reflect outside chrysler collection a growth to deficit-reduction bearish asea about a municipalities and officer who been rupert of an heir vacant in declare followed phased about september to the country editorial-page chairman of subsidies shorter approved with literary utilities being owns a launching prescribed and better judge intended of nebraska government by mr. 1930s which is people to even.\n incredible are fell to a more fund standing fund of trading along direct magna to president.\n\n"
     ]
    }
   ],
   "source": [
    "# coding: utf-8\n",
    "\n",
    "import sys\n",
    "sys.path.append('..')\n",
    "from rnnlm_gen import RnnlmGen\n",
    "from dataset import ptb\n",
    "\n",
    "\n",
    "corpus, word_to_id, id_to_word = ptb.load_data('train') # Penn Treebank 로드 \n",
    "vocab_size = len(word_to_id) # 10000개\n",
    "corpus_size = len(corpus) # 90만개\n",
    "\n",
    "model = MyRnnlmGen() # 위에 있는 language model 오브젝트 생성\n",
    "model.load_params('../ch06/Rnnlm.pkl') # 6장에서 만든 LSTM 하나만 쓴 모델 피클 로드 - 모든 웨이트, 바이어스 학습된 채로 복원됨 \n",
    "\n",
    "# start 문자와 skip 문자 설정\n",
    "start_word = 'you'\n",
    "start_id = word_to_id[start_word]\n",
    "skip_words = ['N', '<unk>', '$']\n",
    "skip_ids = [word_to_id[w] for w in skip_words]\n",
    "# 문장 생성\n",
    "word_ids = model.generate(start_id, skip_ids, sample_size=100)\n",
    "txt = ' '.join([id_to_word[i] for i in word_ids])\n",
    "txt = txt.replace(' <eos>', '.\\n')\n",
    "print(txt) # 엉망! 기본 RNNLM을 사용했기 때문 "
   ]
  },
  {
   "cell_type": "markdown",
   "metadata": {},
   "source": [
    "### 더 좋은 문장으로"
   ]
  },
  {
   "cell_type": "code",
   "execution_count": 4,
   "metadata": {},
   "outputs": [
    {
     "output_type": "stream",
     "name": "stdout",
     "text": [
      "you thought it could fly.\n",
      " mr. reynolds said the move contends that the actions of its united states inc. plan to sell its corporate merchandising services division for a few years helped manage the resignation of the group 's investment banker.\n",
      " in terms of the new appointment had been particularly harsh to the.\n",
      " for one of the company 's most powerful competitors mentioned over the new ventures from adopting a complex restructuring he through pinkerton 's is almost one of its traditional boat information are trying to win to a board of new york said michael greene\n",
      "--------------------------------------------------\n",
      "the meaning of life is often insurance produced entirely by the state of japan.\n",
      " at any point there is little rational to say that new wisdom will hurt.\n",
      " mr. guzman cabrera 's findings that mr. rowe would bring over as fundamental as possible the stock firm will need a full career of at least predecessor 's seniority.\n",
      " and wisconsin examiner is asked to block the words of a white house engaging house in any of the box.\n",
      " he could n't be reached for comment.\n",
      " last monday ual provided its restructuring pact with mr. edelman the firm 's decision to\n"
     ]
    }
   ],
   "source": [
    "# coding: utf-8\n",
    "import sys\n",
    "sys.path.append('..')\n",
    "from common.np import *\n",
    "from rnnlm_gen import BetterRnnlmGen\n",
    "from dataset import ptb\n",
    "\n",
    "\n",
    "corpus, word_to_id, id_to_word = ptb.load_data('train')\n",
    "vocab_size = len(word_to_id)\n",
    "corpus_size = len(corpus)\n",
    "\n",
    "\n",
    "model = BetterRnnlmGen()\n",
    "model.load_params('../ch06/BetterRnnlm.pkl') # 좀 더 나은 RNN 모델 - LSTM 계층을 2층으로 쌓고 그 사이에 드롭아웃 넣고 맨 아래 있는 임베딩을 Affine 까지 단차연결 한 LM\n",
    "\n",
    "# start 문자와 skip 문자 설정\n",
    "# you 로 시작하는 말 시작\n",
    "start_word = 'you'\n",
    "start_id = word_to_id[start_word]\n",
    "skip_words = ['N', '<unk>', '$']\n",
    "skip_ids = [word_to_id[w] for w in skip_words]\n",
    "# 문장 생성\n",
    "word_ids = model.generate(start_id, skip_ids)\n",
    "txt = ' '.join([id_to_word[i] for i in word_ids])\n",
    "txt = txt.replace(' <eos>', '.\\n')\n",
    "\n",
    "print(txt)\n",
    "\n",
    "\n",
    "model.reset_state() # 모델 초기화\n",
    "# the meaning of life is 로 시작하는 말 시작 \n",
    "start_words = 'the meaning of life is'\n",
    "start_ids = [word_to_id[w] for w in start_words.split(' ')]\n",
    "\n",
    "for x in start_ids[:-1]:\n",
    "    x = np.array(x).reshape(1, 1)\n",
    "    model.predict(x)\n",
    "\n",
    "word_ids = model.generate(start_ids[-1], skip_ids)\n",
    "word_ids = start_ids[:-1] + word_ids\n",
    "txt = ' '.join([id_to_word[i] for i in word_ids])\n",
    "txt = txt.replace(' <eos>', '.\\n')\n",
    "print('-' * 50)\n",
    "print(txt) "
   ]
  },
  {
   "cell_type": "code",
   "execution_count": null,
   "metadata": {},
   "outputs": [],
   "source": []
  }
 ],
 "metadata": {
  "kernelspec": {
   "name": "python3",
   "display_name": "Python 3.9.5 64-bit"
  },
  "language_info": {
   "codemirror_mode": {
    "name": "ipython",
    "version": 3
   },
   "file_extension": ".py",
   "mimetype": "text/x-python",
   "name": "python",
   "nbconvert_exporter": "python",
   "pygments_lexer": "ipython3",
   "version": "3.9.5"
  },
  "interpreter": {
   "hash": "959a18ac66ee2683f34ded84e84c931577fa73ca4fb90e7d698e064528f50562"
  }
 },
 "nbformat": 4,
 "nbformat_minor": 4
}