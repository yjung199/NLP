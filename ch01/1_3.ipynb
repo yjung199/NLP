{
 "cells": [
  {
   "cell_type": "markdown",
   "metadata": {},
   "source": [
    "# Repeat 노드"
   ]
  },
  {
   "cell_type": "code",
   "execution_count": 1,
   "metadata": {},
   "outputs": [
    {
     "name": "stdout",
     "output_type": "stream",
     "text": [
      "(1, 8)\n"
     ]
    }
   ],
   "source": [
    "import numpy as np\n",
    "\n",
    "D, N = 8, 7\n",
    "x = np.random.rand(1,D) #1행 8열\n",
    "print(x.shape)\n"
   ]
  },
  {
   "cell_type": "code",
   "execution_count": 2,
   "metadata": {},
   "outputs": [
    {
     "name": "stdout",
     "output_type": "stream",
     "text": [
      "(7, 8)\n"
     ]
    }
   ],
   "source": [
    "y = np.repeat(x, N, axis=0) #행(axis=0)으로 N번 x를 반복하라 \n",
    "print(y.shape)"
   ]
  },
  {
   "cell_type": "code",
   "execution_count": 3,
   "metadata": {},
   "outputs": [
    {
     "name": "stdout",
     "output_type": "stream",
     "text": [
      "(7, 8)\n"
     ]
    }
   ],
   "source": [
    "dy = np.random.rand(N, D)\n",
    "print(dy.shape)"
   ]
  },
  {
   "cell_type": "code",
   "execution_count": 5,
   "metadata": {},
   "outputs": [
    {
     "name": "stdout",
     "output_type": "stream",
     "text": [
      "(1, 8)\n"
     ]
    }
   ],
   "source": [
    "dx = np.sum(dy, axis=0, keepdims=True) #형상은 유지하면서 행끼리만 합하여 줄어들어라\n",
    "print(dx.shape)"
   ]
  },
  {
   "cell_type": "code",
   "execution_count": 6,
   "metadata": {},
   "outputs": [
    {
     "data": {
      "text/plain": [
       "array([[2.84011822, 3.22488201, 3.11661333, 4.13722795, 3.12249185,\n",
       "        1.93298259, 3.392369  , 4.48449468]])"
      ]
     },
     "execution_count": 6,
     "metadata": {},
     "output_type": "execute_result"
    }
   ],
   "source": [
    "dx"
   ]
  },
  {
   "cell_type": "markdown",
   "metadata": {},
   "source": [
    "# SUM 노드"
   ]
  },
  {
   "cell_type": "code",
   "execution_count": 12,
   "metadata": {},
   "outputs": [
    {
     "name": "stdout",
     "output_type": "stream",
     "text": [
      "(7, 8)\n",
      "(1, 8)\n"
     ]
    }
   ],
   "source": [
    "import numpy as np\n",
    "\n",
    "N, D = 7, 8\n",
    "x = np.random.rand(N, D)\n",
    "print(x.shape) #7행 8열\n",
    "\n",
    "y = np.sum(x, axis=0, keepdims=True) #sum 노드 순전파\n",
    "print(y.shape) #1행 8열\n",
    "\n"
   ]
  },
  {
   "cell_type": "code",
   "execution_count": 13,
   "metadata": {},
   "outputs": [
    {
     "name": "stdout",
     "output_type": "stream",
     "text": [
      "(1, 8)\n",
      "(7, 8)\n"
     ]
    }
   ],
   "source": [
    "dy = np.random.rand(1, D) # 날라온 미분값\n",
    "print(dy.shape)\n",
    "dx = np.repeat(dy, N, axis=0) #sum 노드 역전파\n",
    "print(dx.shape)"
   ]
  },
  {
   "cell_type": "markdown",
   "metadata": {},
   "source": [
    "# Matmul"
   ]
  },
  {
   "cell_type": "code",
   "execution_count": 2,
   "metadata": {},
   "outputs": [],
   "source": [
    "class MatMul:\n",
    "    # bias addition 까지 있으면 affine\n",
    "    # 없고 행렬의 곱만 있다면 MatMul\n",
    "    def __init__(self, W):\n",
    "        self.params = [W]\n",
    "        self.grads = [np.zeros_like(W)] # np.zeroes_like returns an array of zeros with the same shape and type as a given array \"W\"\n",
    "        self.x = None\n",
    "\n",
    "    def forward(self, x):\n",
    "        W, = self.params\n",
    "        out = np.dot(x, W)\n",
    "        self.x = x\n",
    "        return out\n",
    "\n",
    "    def backward(self, dout):\n",
    "        # y = xW    (1)\n",
    "        # dout이 뒤에서 날라온 미분\u001f\n",
    "        W, = self.params \n",
    "        dx = np.dot(dout, W.T) # x편미분 -> eqn (1) 의 x자리에 dout, 그리고 W자리에 W의 전치 (W.T)\n",
    "        dW = np.dot(self.x.T, dout) # W편미분 -> eqn (1) 의 W자리에 dout, 그리고 x자리에 x의 전치 (x.T)\n",
    "        self.grads[0][...] = dW # deep copy\n",
    "        return dx"
   ]
  },
  {
   "cell_type": "code",
   "execution_count": 6,
   "metadata": {},
   "outputs": [
    {
     "output_type": "stream",
     "name": "stdout",
     "text": [
      "[4 5 6]\n4685704288\n4685704288\nTrue\n[10  5  6]\n[10  5  6]\n"
     ]
    }
   ],
   "source": [
    "import numpy as np\n",
    "a = np.array([1,2,3])\n",
    "b = np.array([4,5,6])\n",
    "\n",
    "a = b # Shallow copy -> reference point of variable a moves to the object that b was pointing at\n",
    "      # As reference count for np.array([1,2,3]) has reduced to 1, the object gets destroyed \n",
    "print(a) # [4 5 6]\n",
    "print(id(a))\n",
    "a[0] = 10\n",
    "print(id(a))\n",
    "print(id(a) == id(b)) # True\n",
    "print(a)\n",
    "print(b)\n"
   ]
  },
  {
   "cell_type": "code",
   "execution_count": 9,
   "metadata": {},
   "outputs": [
    {
     "output_type": "stream",
     "name": "stdout",
     "text": [
      "[4 5 6]\n4719440240\nFalse\n[10  5  6]\n[4 5 6]\n"
     ]
    }
   ],
   "source": [
    "import numpy as np\n",
    "a=np.array([1,2,3])\n",
    "b=np.array([4,5,6])\n",
    "\n",
    "a[...] = b # Deep copy\n",
    "print(a)\n",
    "print(id(a))\n",
    "print(id(a)==id(b)) # False\n",
    "a[0] = 10 # only a[0] changes, b[0] stays the same\n",
    "print(a) # [10 5 6]\n",
    "print(b) # [4 5 6]"
   ]
  },
  {
   "source": [
    "# 시그모이드 계층"
   ],
   "cell_type": "markdown",
   "metadata": {}
  },
  {
   "cell_type": "code",
   "execution_count": 10,
   "metadata": {},
   "outputs": [],
   "source": [
    "class Sigmoid:\n",
    "    def __init__(self):\n",
    "        self.params, self.grads = [],[]\n",
    "        self.out = None\n",
    "\n",
    "    def forward(self, x): # 시그모이드 순전파\n",
    "        out = 1 / (1+np.exp(-x))\n",
    "        self.out = out # 역전파의 y 으로 쓰기 위해 반드시 저장해놔야 함\n",
    "        return out\n",
    "\n",
    "    def backward(self, dout): # 시그모이드 역전파\n",
    "        dx = dout * (1.0 - self.out) * self.out # dy/dx = y(1-y) where y = dout (뒤에서 날라온 미분값), 미분으로 나온 값을 저장했다가 (y) 그것 곱하기 (1-y) \n",
    "        return dx"
   ]
  },
  {
   "source": [
    "# Affine 계층"
   ],
   "cell_type": "markdown",
   "metadata": {}
  },
  {
   "cell_type": "code",
   "execution_count": 11,
   "metadata": {},
   "outputs": [],
   "source": [
    "class Affine:\n",
    "    # Matmul과 유사하나 bias 덧셈까지 있음\n",
    "    def __init__(self, W, b):\n",
    "        self.params = [W, b]\n",
    "        self.grads = [np.zeros_like(W), np.zeros_like(b)]\n",
    "        self.x = None\n",
    "    \n",
    "    def forward(self, x):\n",
    "        W, b = self.params\n",
    "        out = np.dot(x, W) + b # explicit 하지 않지만 +b에는 행 repeat가 숨어있음 \n",
    "        self.x = x\n",
    "        return out\n",
    "\n",
    "    def backward(self, dout):\n",
    "        W, b = self.params\n",
    "        dx = np.dot(dout, W.T)\n",
    "        dW = np.dot(self.x.T, dout)\n",
    "        db = np.sum(dout, axis=0) # 위의 bias의 repeat이 있기 때문에 repeat의 미분, 즉 sum 필요\n",
    "\n",
    "        self.grads[0][...] = dW\n",
    "        self.grads[1][...] = db\n",
    "        return dx"
   ]
  },
  {
   "source": [
    "# Softmax with Loss 계층"
   ],
   "cell_type": "markdown",
   "metadata": {}
  },
  {
   "cell_type": "code",
   "execution_count": 12,
   "metadata": {},
   "outputs": [],
   "source": [
    "class SoftmaxWithLoss:\n",
    "    def __init__(self):\n",
    "        self.params, self.grads = [], []\n",
    "        self.y = None # softmax 출력\n",
    "        self.t = None # 정답 레이블\n",
    "\n",
    "    def forward(self, x, t):\n",
    "        self.t = t\n",
    "        self.y = softmax(x) # 순전파일 경우 softmax 따로, CEE 따로 \n",
    "\n",
    "        # 정답 레이블이 원 핫 벡터일 경우 정답의 인덱스로 변환\n",
    "        if self.t.size == self.y.size:\n",
    "            self.t = self.t.argmax(axis=1)\n",
    "\n",
    "        loss = cross_entropy_error(self.y, self.t)\n",
    "        return loss\n",
    "\n",
    "    def backward(self, dout=1):\n",
    "        batch_size = self.t.shape[0]\n",
    "\n",
    "        dx = self.y.copy()\n",
    "        dx[np.arange(batch_size), self.t] -= 1 # 역전파일 경우 그냥 (예측값-실질값). 정답일 경우 1이기 떄문에 정답을 맞춘 것만 골라서 1을 빼줌\n",
    "                                               # np.arange(batch_size) => 배치가 10개라고 했을 때 np.arange 는 0에서 9행까지 라는 뜻이므로 np.arange(batch_size) 는 미니 배치의 모든 행에 대해서 라는 뜻 \n",
    "                                               # self.t = 열의 값. dx[np.arange(batch_size), self.t]으로 하면 정답 자리에 있는 예측값만 뽑아옴\n",
    "        dx *= dout # 예측값-실질값 * 뒤에서 날라온 미분값.\n",
    "        dx = dx/batch_size # 미니배치로 여러개 날라온다면 배치사이즈로 디비젼 하여 평균값 내기\n",
    "\n",
    "        return dx\n"
   ]
  },
  {
   "source": [
    "# 가중치 갱신"
   ],
   "cell_type": "markdown",
   "metadata": {}
  },
  {
   "cell_type": "code",
   "execution_count": 13,
   "metadata": {},
   "outputs": [],
   "source": [
    "class SGD:\n",
    "    '''\n",
    "    확률적 경사하강법 (Stochastic Gradient Descent)\n",
    "    '''\n",
    "\n",
    "    def __init__(self, lr = 0.01):\n",
    "        self.lr = lr\n",
    "\n",
    "    def update(self, params, grads):\n",
    "        for i in range(len(params)):\n",
    "            params[i] -= self.lr * grads[i] # params[] = Weight, lr = learning rate, grads[] = 미분값\n"
   ]
  },
  {
   "cell_type": "code",
   "execution_count": null,
   "metadata": {},
   "outputs": [],
   "source": []
  }
 ],
 "metadata": {
  "kernelspec": {
   "name": "python3",
   "display_name": "Python 3.8.6 64-bit ('Sung_Kim_ML-2tXuaA7I': venv)"
  },
  "language_info": {
   "codemirror_mode": {
    "name": "ipython",
    "version": 3
   },
   "file_extension": ".py",
   "mimetype": "text/x-python",
   "name": "python",
   "nbconvert_exporter": "python",
   "pygments_lexer": "ipython3",
   "version": "3.8.6"
  },
  "interpreter": {
   "hash": "77b2501f97319d5135793e0e344f2f7dc2819a253634fa0048138aac158087f8"
  }
 },
 "nbformat": 4,
 "nbformat_minor": 4
}