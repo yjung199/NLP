{
 "cells": [
  {
   "cell_type": "markdown",
   "metadata": {},
   "source": [
    "# 신경망 추론\n",
    "## 미니배치 버전 파이썬 구현"
   ]
  },
  {
   "cell_type": "code",
   "execution_count": 5,
   "metadata": {},
   "outputs": [
    {
     "data": {
      "text/plain": [
       "0.4839074815424985"
      ]
     },
     "execution_count": 5,
     "metadata": {},
     "output_type": "execute_result"
    }
   ],
   "source": [
    "import numpy as np\n",
    "W1 = np.random.rand(2,4) # x * W = h\n",
    "np.sum(W1)/8 # W1의 평균 = 0.5에 수렴 -> np.random.rand generates 확률분포로 만드는 난수라고 알수있음"
   ]
  },
  {
   "cell_type": "code",
   "execution_count": 6,
   "metadata": {},
   "outputs": [
    {
     "name": "stdout",
     "output_type": "stream",
     "text": [
      "[[0.23242726 0.7934232  0.94883295 0.01250601]\n",
      " [0.19543563 0.99885808 0.24771758 0.44205914]]\n"
     ]
    }
   ],
   "source": [
    "print(W1)"
   ]
  },
  {
   "cell_type": "code",
   "execution_count": 3,
   "metadata": {},
   "outputs": [],
   "source": [
    "\n",
    "b1 = np.random.rand(4)"
   ]
  },
  {
   "cell_type": "code",
   "execution_count": 3,
   "metadata": {},
   "outputs": [
    {
     "data": {
      "text/plain": [
       "array([0.34678728, 0.61796951, 0.59030361, 0.0663314 ])"
      ]
     },
     "execution_count": 3,
     "metadata": {},
     "output_type": "execute_result"
    }
   ],
   "source": [
    "b1"
   ]
  },
  {
   "cell_type": "code",
   "execution_count": 4,
   "metadata": {},
   "outputs": [],
   "source": [
    "x = np.random.rand(10,2) #10개 샘플 미니배치, 10개당 2개의 "
   ]
  },
  {
   "cell_type": "code",
   "execution_count": 5,
   "metadata": {},
   "outputs": [
    {
     "data": {
      "text/plain": [
       "array([[0.42698638, 0.26810132],\n",
       "       [0.28683975, 0.05379772],\n",
       "       [0.57096759, 0.69811541],\n",
       "       [0.10601421, 0.73563676],\n",
       "       [0.97296774, 0.90229574],\n",
       "       [0.90768055, 0.90811135],\n",
       "       [0.92880753, 0.85852122],\n",
       "       [0.61641839, 0.10428316],\n",
       "       [0.82351584, 0.51775292],\n",
       "       [0.40415273, 0.32991406]])"
      ]
     },
     "execution_count": 5,
     "metadata": {},
     "output_type": "execute_result"
    }
   ],
   "source": [
    "x"
   ]
  },
  {
   "cell_type": "code",
   "execution_count": 6,
   "metadata": {},
   "outputs": [],
   "source": [
    "h = np.matmul(x,W1)+b1"
   ]
  },
  {
   "cell_type": "code",
   "execution_count": 7,
   "metadata": {},
   "outputs": [
    {
     "data": {
      "text/plain": [
       "array([[0.42039671, 1.03542783, 1.08838379, 0.39569239],\n",
       "       [0.38623506, 0.87682658, 0.80295637, 0.20347675],\n",
       "       [0.4721094 , 1.23422502, 1.58422324, 0.73291143],\n",
       "       [0.41804257, 0.83594188, 1.3599424 , 0.59366395],\n",
       "       [0.53759218, 1.61901323, 2.00658973, 1.01087945],\n",
       "       [0.53004361, 1.56318111, 1.97562508, 0.99169105],\n",
       "       [0.52870865, 1.57309656, 1.93958409, 0.96612992],\n",
       "       [0.43066353, 1.17231752, 1.0363572 , 0.35351288],\n",
       "       [0.48880894, 1.42322402, 1.55158662, 0.70200887],\n",
       "       [0.42249013, 1.02611538, 1.13526922, 0.42879012]])"
      ]
     },
     "execution_count": 7,
     "metadata": {},
     "output_type": "execute_result"
    }
   ],
   "source": [
    "h"
   ]
  },
  {
   "cell_type": "code",
   "execution_count": 8,
   "metadata": {},
   "outputs": [
    {
     "data": {
      "text/plain": [
       "(10, 4)"
      ]
     },
     "execution_count": 8,
     "metadata": {},
     "output_type": "execute_result"
    }
   ],
   "source": [
    "h.shape"
   ]
  },
  {
   "cell_type": "markdown",
   "metadata": {},
   "source": [
    "## 시그모이드"
   ]
  },
  {
   "cell_type": "code",
   "execution_count": 6,
   "metadata": {},
   "outputs": [],
   "source": [
    "import numpy as np\n",
    "def sigmoid(x):\n",
    "    return 1/(1+np.exp(-x))"
   ]
  },
  {
   "cell_type": "code",
   "execution_count": 8,
   "metadata": {},
   "outputs": [
    {
     "name": "stdout",
     "output_type": "stream",
     "text": [
      "200\n"
     ]
    },
    {
     "data": {
      "image/png": "[encoded data removed]",
      "text/plain": [
       "<Figure size 432x288 with 1 Axes>"
      ]
     },
     "metadata": {
      "needs_background": "light"
     },
     "output_type": "display_data"
    }
   ],
   "source": [
    "import matplotlib.pyplot as plt\n",
    "import numpy as np\n",
    "zs = np.arange(-10., 10., 0.1)\n",
    "print(len(zs))\n",
    "gs = [sigmoid(z) for z in zs]\n",
    "plt.plot(zs, gs) # zs = x, gs = y\n",
    "plt.xlabel('z')\n",
    "plt.ylabel('1/(1+e^-z)')\n",
    "plt.show()"
   ]
  },
  {
   "cell_type": "code",
   "execution_count": 10,
   "metadata": {},
   "outputs": [],
   "source": [
    "x = np.random.rand(10,2)\n",
    "W1 = np.random.rand(2,4)\n",
    "b1 = np.random.rand(4)\n",
    "W2 = np.random.rand(4,3)\n",
    "b2 = np.random.rand(3)\n",
    "\n",
    "h = np.matmul(x, W1) + b1 # (10샘플 수,2특성 수)(2특성 수,4은닉 층 뉴런 수) + (4,바이어스=뉴런 수) => (10,4)\n",
    "a = sigmoid(h) # activaton, 은닉층에 해당 h의 원소 값은 바뀌지 않기 떄문에 형상도 같음. 다만 모든 값이 0과 1 사이 수로 왜곡처리됨. \n",
    "s = np.matmul(a, W2) + b2 # 출력층 (10,4)(4,3) + (3,) => (10, 3) 10개의 샘플에 대한 각각 3개의 출력결과로 다중분류에서 사용됨."
   ]
  },
  {
   "cell_type": "code",
   "execution_count": 11,
   "metadata": {},
   "outputs": [
    {
     "data": {
      "text/plain": [
       "(10, 4)"
      ]
     },
     "execution_count": 11,
     "metadata": {},
     "output_type": "execute_result"
    }
   ],
   "source": [
    "h.shape"
   ]
  },
  {
   "cell_type": "code",
   "execution_count": 12,
   "metadata": {},
   "outputs": [
    {
     "data": {
      "text/plain": [
       "(10, 4)"
      ]
     },
     "execution_count": 12,
     "metadata": {},
     "output_type": "execute_result"
    }
   ],
   "source": [
    "a.shape"
   ]
  },
  {
   "cell_type": "code",
   "execution_count": 13,
   "metadata": {},
   "outputs": [
    {
     "data": {
      "text/plain": [
       "(10, 3)"
      ]
     },
     "execution_count": 13,
     "metadata": {},
     "output_type": "execute_result"
    }
   ],
   "source": [
    "s.shape"
   ]
  },
  {
   "cell_type": "code",
   "execution_count": 33,
   "metadata": {},
   "outputs": [],
   "source": [
    "import numpy as np\n",
    "\n",
    "class Sigmoid:\n",
    "    def __init__(self):\n",
    "        self.params = []\n",
    "    \n",
    "    def forward(self, x):\n",
    "        return 1/(1+np.exp(-x))\n",
    "    \n",
    "class Affine:\n",
    "    def __init__(self, W, b):\n",
    "        self.params = [W, b]\n",
    "    \n",
    "    def forward(self, x):\n",
    "        W, b = self.params\n",
    "        out = np.dot(x, W) + b\n",
    "        return out\n",
    "    \n",
    "class TwoLayerNet:\n",
    "    def __init__(self, input_size, hidden_size, output_size):\n",
    "        I, H, O = input_size, hidden_size, output_size\n",
    "        \n",
    "        # 가중치와 편향 초기화\n",
    "        W1 = np.random.randn(I, H) #(2, 4)\n",
    "        b1 = np.random.randn(H) \n",
    "        W2 = np.random.randn(H, O) #(4, 3)\n",
    "        b2 = np.random.randn(O)\n",
    "        \n",
    "        # Layer 생성\n",
    "        self.layers = [\n",
    "            Affine(W1, b1),\n",
    "            Sigmoid(),\n",
    "            Affine(W2, b2)\n",
    "        ]\n",
    "        \n",
    "        #모든 가중치 리스트에 모음\n",
    "        self.params = []\n",
    "        for layer in self.layers:\n",
    "            self.params += layer.params\n",
    "            print(self.params)\n",
    "        \n",
    "            \n",
    "    def predict(self, x):\n",
    "        for layer in self.layers:\n",
    "            x = layer.forward(x)\n",
    "        return x"
   ]
  },
  {
   "cell_type": "code",
   "execution_count": 34,
   "metadata": {},
   "outputs": [],
   "source": [
    "a = ['A', 'B']\n",
    "a += ['C', 'D']"
   ]
  },
  {
   "cell_type": "code",
   "execution_count": 35,
   "metadata": {},
   "outputs": [
    {
     "data": {
      "text/plain": [
       "['A', 'B', 'C', 'D']"
      ]
     },
     "execution_count": 35,
     "metadata": {},
     "output_type": "execute_result"
    }
   ],
   "source": [
    "a"
   ]
  },
  {
   "cell_type": "code",
   "execution_count": 36,
   "metadata": {},
   "outputs": [
    {
     "name": "stdout",
     "output_type": "stream",
     "text": [
      "[array([[-0.05578711, -2.06603667, -0.44819438,  1.79136937],\n",
      "       [-0.57842253, -0.9222392 ,  1.13159495,  1.06251565]]), array([-1.5276532 ,  0.39882092,  1.44525324,  0.58984659])]\n",
      "[array([[-0.05578711, -2.06603667, -0.44819438,  1.79136937],\n",
      "       [-0.57842253, -0.9222392 ,  1.13159495,  1.06251565]]), array([-1.5276532 ,  0.39882092,  1.44525324,  0.58984659])]\n",
      "[array([[-0.05578711, -2.06603667, -0.44819438,  1.79136937],\n",
      "       [-0.57842253, -0.9222392 ,  1.13159495,  1.06251565]]), array([-1.5276532 ,  0.39882092,  1.44525324,  0.58984659]), array([[-1.67888834,  0.84195851,  0.15037082],\n",
      "       [ 1.17580487,  1.23231451, -0.03672695],\n",
      "       [ 0.00990791,  0.7169247 , -0.67518087],\n",
      "       [-0.9116178 ,  0.70165069,  0.76251473]]), array([0.61434089, 2.17740276, 0.12472012])]\n",
      "(10, 3)\n"
     ]
    }
   ],
   "source": [
    "x = np.random.randn(10, 2)\n",
    "model = TwoLayerNet(2,4,3)\n",
    "s = model.predict(x)\n",
    "print(s.shape)"
   ]
  },
  {
   "cell_type": "code",
   "execution_count": null,
   "metadata": {},
   "outputs": [],
   "source": []
  },
  {
   "cell_type": "code",
   "execution_count": null,
   "metadata": {},
   "outputs": [],
   "source": []
  }
 ],
 "metadata": {
  "kernelspec": {
   "display_name": "Python 3",
   "language": "python",
   "name": "python3"
  },
  "language_info": {
   "codemirror_mode": {
    "name": "ipython",
    "version": 3
   },
   "file_extension": ".py",
   "mimetype": "text/x-python",
   "name": "python",
   "nbconvert_exporter": "python",
   "pygments_lexer": "ipython3",
   "version": "3.7.4"
  }
 },
 "nbformat": 4,
 "nbformat_minor": 4
}
