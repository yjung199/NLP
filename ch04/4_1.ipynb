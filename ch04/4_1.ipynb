{
 "cells": [
  {
   "cell_type": "markdown",
   "metadata": {},
   "source": [
    "### Embedding 계층 구현"
   ]
  },
  {
   "cell_type": "code",
   "execution_count": 4,
   "metadata": {
    "scrolled": true
   },
   "outputs": [
    {
     "name": "stdout",
     "output_type": "stream",
     "text": [
      "[[ 0  1  2]\n",
      " [ 3  4  5]\n",
      " [ 6  7  8]\n",
      " [ 9 10 11]\n",
      " [12 13 14]\n",
      " [15 16 17]\n",
      " [18 19 20]]\n",
      "[0 1 2]\n",
      "[0 1 2]\n"
     ]
    }
   ],
   "source": [
    "import numpy as np\n",
    "W = np.arange(21).reshape(7, 3)\n",
    "x = np.array([1,0,0,0,0,0,0]) #임의 onehot encoding\n",
    "print(W)\n",
    "h = np.dot(x, W)\n",
    "print(h) # 행렬곱이나\n",
    "print(W[0]) # 선택이나 같은 값 [0 1 2] return"
   ]
  },
  {
   "cell_type": "code",
   "execution_count": 5,
   "metadata": {},
   "outputs": [
    {
     "data": {
      "text/plain": [
       "array([6, 7, 8])"
      ]
     },
     "execution_count": 5,
     "metadata": {},
     "output_type": "execute_result"
    }
   ],
   "source": [
    "W[2]"
   ]
  },
  {
   "cell_type": "code",
   "execution_count": 6,
   "metadata": {},
   "outputs": [
    {
     "data": {
      "text/plain": [
       "array([15, 16, 17])"
      ]
     },
     "execution_count": 6,
     "metadata": {},
     "output_type": "execute_result"
    }
   ],
   "source": [
    "W[5]"
   ]
  },
  {
   "cell_type": "code",
   "execution_count": 7,
   "metadata": {},
   "outputs": [
    {
     "data": {
      "text/plain": [
       "array([[ 3,  4,  5],\n",
       "       [ 0,  1,  2],\n",
       "       [ 9, 10, 11],\n",
       "       [ 0,  1,  2]])"
      ]
     },
     "execution_count": 7,
     "metadata": {},
     "output_type": "execute_result"
    }
   ],
   "source": [
    "idx = np.array([1, 0, 3, 0]) # you say goodbye and i say hello . 에서 say, you, and, you 를 뽑은 것 과 같음. 여기서 배치처리 하면서 들어온 중복된 you는 역전파 미분할 때 문제가 됨ㅊ \n",
    "W[[1,0,3,0]] # 인텍스 1 0 3 0 만 꺼내서 새로운 배열을 만드는 python 기법"
   ]
  },
  {
   "cell_type": "code",
   "execution_count": 26,
   "metadata": {},
   "outputs": [],
   "source": [
    "class Embedding:\n",
    "    def __init__(self, W):\n",
    "        self.params = [W]\n",
    "        self.grads = [np.zeros_like(W)]\n",
    "        self.idx = None\n",
    "\n",
    "    def forward(self, idx):\n",
    "        W, = self.params\n",
    "        self.idx = idx\n",
    "        out = W[idx]\n",
    "        return out\n",
    "\n",
    "    # 옳은 backward (simplified)\n",
    "    def backward(self, dout):\n",
    "        dW, = self.grads\n",
    "        dW[...] = 0\n",
    "        np.add.at(dW, self.idx, dout)\n",
    "        return None    \n",
    "\n",
    "#     옳은 backward\n",
    "#     def backward(self, dout):\n",
    "#         dW, = self.grads\n",
    "#         dW[...] = 0\n",
    "#         for i, word_id in enumerate(self.idx):\n",
    "#             dW[word_id] += dout[i]\n",
    "#         return None\n",
    "    \n",
    "#     옳지 않은 backward    \n",
    "#     def backward(self, dout):\n",
    "#         dW, = self.grads\n",
    "#         dW[...] = 0\n",
    "#         dW[self.idx] = dout\n",
    "#         return None    "
   ]
  },
  {
   "cell_type": "code",
   "execution_count": 27,
   "metadata": {
    "scrolled": true
   },
   "outputs": [
    {
     "name": "stdout",
     "output_type": "stream",
     "text": [
      "[1, 0, 3, 0]\n",
      "[[ 3  4  5]\n",
      " [ 0  1  2]\n",
      " [ 9 10 11]\n",
      " [ 0  1  2]]\n"
     ]
    }
   ],
   "source": [
    "embed = Embedding(W)\n",
    "out = embed.forward([1,0,3,0]) # 선택하기\n",
    "print(embed.idx) #선택된 idx 기록되어있음\n",
    "print(out)"
   ]
  },
  {
   "cell_type": "code",
   "execution_count": 28,
   "metadata": {},
   "outputs": [
    {
     "data": {
      "text/plain": [
       "[array([[6, 6, 6],\n",
       "        [1, 1, 1],\n",
       "        [0, 0, 0],\n",
       "        [3, 3, 3],\n",
       "        [0, 0, 0],\n",
       "        [0, 0, 0],\n",
       "        [0, 0, 0]])]"
      ]
     },
     "execution_count": 28,
     "metadata": {},
     "output_type": "execute_result"
    }
   ],
   "source": [
    "dout = np.array([[1,1,1], # 1번째에 반영\n",
    "                 [2,2,2], # 0번째에 반영\n",
    "                 [3,3,3], # 3번쨰에 반영\n",
    "                 [4,4,4]])# 다시 0번쨰에 반영\n",
    "embed.backward(dout)\n",
    "embed.grads\n",
    "\n",
    "'''\n",
    "[array([[6, 6, 6], # [2 2 2] + [4 4 4] 가 올바르게 반영된 모습\n",
    "        [1, 1, 1],\n",
    "        [0, 0, 0],\n",
    "        [3, 3, 3],\n",
    "        [0, 0, 0],\n",
    "        [0, 0, 0],\n",
    "        [0, 0, 0]])]\n",
    "'''"
   ]
  },
  {
   "cell_type": "code",
   "execution_count": 7,
   "metadata": {},
   "outputs": [],
   "source": [
    "    # 옳지 않은 backward \n",
    "    # 같은 행이 선택되면 미분값이 이 전 미분값을 덮어씌우버림\n",
    "    def backward(self, dout):\n",
    "        dW, = self.grads\n",
    "        dW[...] = 0\n",
    "        dW[self.idx] = dout\n",
    "        return None"
   ]
  },
  {
   "cell_type": "code",
   "execution_count": 8,
   "metadata": {},
   "outputs": [],
   "source": [
    "    # 옳은 backward\n",
    "    def backward(self, dout):\n",
    "        dW, = self.grads\n",
    "        dW[...] = 0\n",
    "        for i, word_id in enumerate(self.idx):\n",
    "            dW[word_id] += dout[i]\n",
    "        return None"
   ]
  },
  {
   "cell_type": "code",
   "execution_count": 9,
   "metadata": {},
   "outputs": [],
   "source": [
    "    # 옳은 backward (simplified)\n",
    "    def backward(self, dout):\n",
    "        dW, = self.grads\n",
    "        dW[...] = 0\n",
    "        np.add.at(dW, self.idx, dout)\n",
    "        return None"
   ]
  },
  {
   "cell_type": "code",
   "execution_count": 25,
   "metadata": {},
   "outputs": [
    {
     "name": "stdout",
     "output_type": "stream",
     "text": [
      "[2. 1. 1. 0. 0.]\n"
     ]
    }
   ],
   "source": [
    "dW = np.zeros(5)\n",
    "idx = np.array([0,1,2,0])\n",
    "np.add.at(dW, idx, 1) # add.at(list, index, 1) 은 list 의 given index에 1을 더하라는 뜻. 0이 두번 있으므로 [2. 1. 1. 0. 0.]가 return\n",
    "print(dW)"
   ]
  },
  {
   "cell_type": "code",
   "execution_count": null,
   "metadata": {},
   "outputs": [],
   "source": []
  }
 ],
 "metadata": {
  "kernelspec": {
   "display_name": "Python 3",
   "language": "python",
   "name": "python3"
  },
  "language_info": {
   "codemirror_mode": {
    "name": "ipython",
    "version": 3
   },
   "file_extension": ".py",
   "mimetype": "text/x-python",
   "name": "python",
   "nbconvert_exporter": "python",
   "pygments_lexer": "ipython3",
   "version": "3.8.5"
  }
 },
 "nbformat": 4,
 "nbformat_minor": 4
}